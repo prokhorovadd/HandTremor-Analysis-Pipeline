{
  "cells": [
    {
      "cell_type": "code",
      "execution_count": null,
      "id": "8f626e77",
      "metadata": {
        "id": "8f626e77"
      },
      "outputs": [],
      "source": [
        "import numpy as np\n",
        "import pandas as pd"
      ]
    },
    {
      "cell_type": "code",
      "execution_count": null,
      "id": "f5353e09",
      "metadata": {
        "id": "f5353e09"
      },
      "outputs": [],
      "source": [
        "df = pd.read_csv(\"hand_features3.csv\")"
      ]
    },
    {
      "cell_type": "code",
      "execution_count": null,
      "id": "c9f2d46e",
      "metadata": {
        "id": "c9f2d46e",
        "outputId": "d05ac361-0b30-4db0-ab44-c9e9ac512ad0"
      },
      "outputs": [
        {
          "data": {
            "text/html": [
              "<div>\n",
              "<style scoped>\n",
              "    .dataframe tbody tr th:only-of-type {\n",
              "        vertical-align: middle;\n",
              "    }\n",
              "\n",
              "    .dataframe tbody tr th {\n",
              "        vertical-align: top;\n",
              "    }\n",
              "\n",
              "    .dataframe thead th {\n",
              "        text-align: right;\n",
              "    }\n",
              "</style>\n",
              "<table border=\"1\" class=\"dataframe\">\n",
              "  <thead>\n",
              "    <tr style=\"text-align: right;\">\n",
              "      <th></th>\n",
              "      <th>rhythm_ms</th>\n",
              "      <th>speed_px_per_sec</th>\n",
              "      <th>amplitude_norm</th>\n",
              "      <th>num_taps</th>\n",
              "      <th>video</th>\n",
              "    </tr>\n",
              "  </thead>\n",
              "  <tbody>\n",
              "    <tr>\n",
              "      <th>0</th>\n",
              "      <td>71.449518</td>\n",
              "      <td>0.453955</td>\n",
              "      <td>7.782905</td>\n",
              "      <td>30</td>\n",
              "      <td>10222_11052025093743_f5d91ede-f155-11ec-9211-e...</td>\n",
              "    </tr>\n",
              "    <tr>\n",
              "      <th>1</th>\n",
              "      <td>17.817416</td>\n",
              "      <td>0.827351</td>\n",
              "      <td>4.762737</td>\n",
              "      <td>8</td>\n",
              "      <td>1428_10052025201556_ccf71a4a-5f42-11ed-9161-e8...</td>\n",
              "    </tr>\n",
              "    <tr>\n",
              "      <th>2</th>\n",
              "      <td>74.445405</td>\n",
              "      <td>0.618648</td>\n",
              "      <td>0.846606</td>\n",
              "      <td>62</td>\n",
              "      <td>1374_10052025201359_c4c6c6cc-59c4-11ed-afbc-e8...</td>\n",
              "    </tr>\n",
              "    <tr>\n",
              "      <th>3</th>\n",
              "      <td>60.438215</td>\n",
              "      <td>0.295369</td>\n",
              "      <td>6.938820</td>\n",
              "      <td>41</td>\n",
              "      <td>1165_10052025200540_a893fecc-5449-11ed-a18d-e8...</td>\n",
              "    </tr>\n",
              "    <tr>\n",
              "      <th>4</th>\n",
              "      <td>139.942845</td>\n",
              "      <td>0.641130</td>\n",
              "      <td>2.432114</td>\n",
              "      <td>51</td>\n",
              "      <td>1372_10052025201355_c48bdf76-85cb-11ed-a21f-e8...</td>\n",
              "    </tr>\n",
              "    <tr>\n",
              "      <th>5</th>\n",
              "      <td>41.317052</td>\n",
              "      <td>0.445035</td>\n",
              "      <td>3.276118</td>\n",
              "      <td>61</td>\n",
              "      <td>1436_10052025201612_cdb9c5e8-7d1d-11ed-b03c-e8...</td>\n",
              "    </tr>\n",
              "    <tr>\n",
              "      <th>6</th>\n",
              "      <td>49.881348</td>\n",
              "      <td>0.422529</td>\n",
              "      <td>1.237249</td>\n",
              "      <td>32</td>\n",
              "      <td>10004_11052025090223_e75ca698-34ee-11ed-b745-e...</td>\n",
              "    </tr>\n",
              "    <tr>\n",
              "      <th>7</th>\n",
              "      <td>135.564663</td>\n",
              "      <td>0.384836</td>\n",
              "      <td>2.708674</td>\n",
              "      <td>41</td>\n",
              "      <td>10172_11052025092911_f26f15ca-f7a1-11ec-9a77-b...</td>\n",
              "    </tr>\n",
              "    <tr>\n",
              "      <th>8</th>\n",
              "      <td>248.451997</td>\n",
              "      <td>0.372205</td>\n",
              "      <td>9.426007</td>\n",
              "      <td>10</td>\n",
              "      <td>1335_10052025201220_c018367e-e0bf-11ec-b470-e8...</td>\n",
              "    </tr>\n",
              "    <tr>\n",
              "      <th>9</th>\n",
              "      <td>40.592736</td>\n",
              "      <td>0.326288</td>\n",
              "      <td>5.794588</td>\n",
              "      <td>43</td>\n",
              "      <td>1177_10052025200606_aa44dc3a-493f-11ed-8f26-e8...</td>\n",
              "    </tr>\n",
              "  </tbody>\n",
              "</table>\n",
              "</div>"
            ],
            "text/plain": [
              "    rhythm_ms  speed_px_per_sec  amplitude_norm  num_taps  \\\n",
              "0   71.449518          0.453955        7.782905        30   \n",
              "1   17.817416          0.827351        4.762737         8   \n",
              "2   74.445405          0.618648        0.846606        62   \n",
              "3   60.438215          0.295369        6.938820        41   \n",
              "4  139.942845          0.641130        2.432114        51   \n",
              "5   41.317052          0.445035        3.276118        61   \n",
              "6   49.881348          0.422529        1.237249        32   \n",
              "7  135.564663          0.384836        2.708674        41   \n",
              "8  248.451997          0.372205        9.426007        10   \n",
              "9   40.592736          0.326288        5.794588        43   \n",
              "\n",
              "                                               video  \n",
              "0  10222_11052025093743_f5d91ede-f155-11ec-9211-e...  \n",
              "1  1428_10052025201556_ccf71a4a-5f42-11ed-9161-e8...  \n",
              "2  1374_10052025201359_c4c6c6cc-59c4-11ed-afbc-e8...  \n",
              "3  1165_10052025200540_a893fecc-5449-11ed-a18d-e8...  \n",
              "4  1372_10052025201355_c48bdf76-85cb-11ed-a21f-e8...  \n",
              "5  1436_10052025201612_cdb9c5e8-7d1d-11ed-b03c-e8...  \n",
              "6  10004_11052025090223_e75ca698-34ee-11ed-b745-e...  \n",
              "7  10172_11052025092911_f26f15ca-f7a1-11ec-9a77-b...  \n",
              "8  1335_10052025201220_c018367e-e0bf-11ec-b470-e8...  \n",
              "9  1177_10052025200606_aa44dc3a-493f-11ed-8f26-e8...  "
            ]
          },
          "execution_count": 4,
          "metadata": {},
          "output_type": "execute_result"
        }
      ],
      "source": [
        "df.head(10)"
      ]
    },
    {
      "cell_type": "code",
      "execution_count": null,
      "id": "9c53f1d5",
      "metadata": {
        "id": "9c53f1d5",
        "outputId": "5fcc760a-6a93-4af7-9841-9c459137a7d2"
      },
      "outputs": [
        {
          "data": {
            "text/html": [
              "<div>\n",
              "<style scoped>\n",
              "    .dataframe tbody tr th:only-of-type {\n",
              "        vertical-align: middle;\n",
              "    }\n",
              "\n",
              "    .dataframe tbody tr th {\n",
              "        vertical-align: top;\n",
              "    }\n",
              "\n",
              "    .dataframe thead th {\n",
              "        text-align: right;\n",
              "    }\n",
              "</style>\n",
              "<table border=\"1\" class=\"dataframe\">\n",
              "  <thead>\n",
              "    <tr style=\"text-align: right;\">\n",
              "      <th></th>\n",
              "      <th>rhythm_ms</th>\n",
              "      <th>speed_px_per_sec</th>\n",
              "      <th>amplitude_norm</th>\n",
              "    </tr>\n",
              "  </thead>\n",
              "  <tbody>\n",
              "    <tr>\n",
              "      <th>0</th>\n",
              "      <td>71.449518</td>\n",
              "      <td>0.453955</td>\n",
              "      <td>7.782905</td>\n",
              "    </tr>\n",
              "    <tr>\n",
              "      <th>1</th>\n",
              "      <td>17.817416</td>\n",
              "      <td>0.827351</td>\n",
              "      <td>4.762737</td>\n",
              "    </tr>\n",
              "    <tr>\n",
              "      <th>2</th>\n",
              "      <td>74.445405</td>\n",
              "      <td>0.618648</td>\n",
              "      <td>0.846606</td>\n",
              "    </tr>\n",
              "    <tr>\n",
              "      <th>3</th>\n",
              "      <td>60.438215</td>\n",
              "      <td>0.295369</td>\n",
              "      <td>6.938820</td>\n",
              "    </tr>\n",
              "    <tr>\n",
              "      <th>4</th>\n",
              "      <td>139.942845</td>\n",
              "      <td>0.641130</td>\n",
              "      <td>2.432114</td>\n",
              "    </tr>\n",
              "  </tbody>\n",
              "</table>\n",
              "</div>"
            ],
            "text/plain": [
              "    rhythm_ms  speed_px_per_sec  amplitude_norm\n",
              "0   71.449518          0.453955        7.782905\n",
              "1   17.817416          0.827351        4.762737\n",
              "2   74.445405          0.618648        0.846606\n",
              "3   60.438215          0.295369        6.938820\n",
              "4  139.942845          0.641130        2.432114"
            ]
          },
          "execution_count": 5,
          "metadata": {},
          "output_type": "execute_result"
        }
      ],
      "source": [
        "X = df[['rhythm_ms', 'speed_px_per_sec', 'amplitude_norm']]\n",
        "X.head()"
      ]
    },
    {
      "cell_type": "code",
      "execution_count": null,
      "id": "ef5363df",
      "metadata": {
        "id": "ef5363df",
        "outputId": "1031fb35-2c31-43c5-8744-2c3a28da7663"
      },
      "outputs": [
        {
          "name": "stderr",
          "output_type": "stream",
          "text": [
            "c:\\Users\\da02s\\anaconda3\\envs\\loan_pipeline\\Lib\\site-packages\\sklearn\\cluster\\_kmeans.py:1419: UserWarning: KMeans is known to have a memory leak on Windows with MKL, when there are less chunks than available threads. You can avoid it by setting the environment variable OMP_NUM_THREADS=1.\n",
            "  warnings.warn(\n"
          ]
        }
      ],
      "source": [
        "from sklearn.cluster import KMeans\n",
        "\n",
        "kmeans = KMeans(n_clusters=5, random_state=42)  # 5 классов (0-4)\n",
        "df['cluster'] = kmeans.fit_predict(X)\n",
        "\n",
        "# Сопоставление кластеров с классами (требует проверки экспертом)\n",
        "cluster_to_label = {0: 0, 1: 3, 2: 4, 3: 1, 4: 2}\n",
        "df['predicted_label'] = df['cluster'].map(cluster_to_label)"
      ]
    },
    {
      "cell_type": "code",
      "execution_count": null,
      "id": "63d2fa38",
      "metadata": {
        "id": "63d2fa38",
        "outputId": "43712a0a-10b1-41ce-83f2-7edb66653be9"
      },
      "outputs": [
        {
          "data": {
            "image/png": "[encoded data removed]",
            "text/plain": [
              "<Figure size 640x480 with 1 Axes>"
            ]
          },
          "metadata": {},
          "output_type": "display_data"
        }
      ],
      "source": [
        "import seaborn as sns\n",
        "import matplotlib.pyplot as plt\n",
        "\n",
        "# Диаграмма рассеяния для 2 признаков\n",
        "sns.scatterplot(data=df, x='rhythm_ms', y='amplitude_norm', hue='predicted_label', palette='viridis')\n",
        "plt.title('Распределение классов по ритму и амплитуде')\n",
        "plt.show()"
      ]
    }
  ],
  "metadata": {
    "kernelspec": {
      "display_name": "loan_pipeline",
      "language": "python",
      "name": "python3"
    },
    "language_info": {
      "codemirror_mode": {
        "name": "ipython",
        "version": 3
      },
      "file_extension": ".py",
      "mimetype": "text/x-python",
      "name": "python",
      "nbconvert_exporter": "python",
      "pygments_lexer": "ipython3",
      "version": "3.11.11"
    },
    "colab": {
      "provenance": []
    }
  },
  "nbformat": 4,
  "nbformat_minor": 5
}